{
 "cells": [
  {
   "cell_type": "code",
   "execution_count": 27,
   "id": "ecb94a70",
   "metadata": {},
   "outputs": [
    {
     "name": "stdout",
     "output_type": "stream",
     "text": [
      "Aplikasi yang hanya muncul di satu kategori saja:\n",
      "{'Sapi', 'Gajah', 'Kuda', 'Kucing', 'Singa'}\n",
      "\n",
      "Aplikasi yang muncul tepat di dua kategori sekaligus:\n",
      "{'Ular', 'Burung Hantu', 'Kanguru'}\n"
     ]
    }
   ],
   "source": [
    "def kategori(n):\n",
    "    kat1 = set()\n",
    "    kat2 = set()\n",
    "    for x, j in n.items():\n",
    "        if len(j) == 1:\n",
    "            kat1.add(x)\n",
    "        elif len(j) == 2:\n",
    "            kat2.add(x)\n",
    "    return kat1, kat2\n",
    "hewan = {\n",
    "    'Singa': ['Karnivora'],\n",
    "    'Kucing': ['Karnivora'],\n",
    "    'Gajah': ['Herbivora'],\n",
    "    'Ular': ['Karnivora', 'Reptil'],\n",
    "    'Kanguru': ['Herbivora', 'Mamalia'],\n",
    "    'Burung Hantu': ['Karnivora', 'unggas'],\n",
    "    'Sapi': ['Herbivora'],\n",
    "    'Kuda': ['Herbivora']\n",
    "}\n",
    "print(\"Aplikasi yang hanya muncul di satu kategori saja:\")\n",
    "kat1, kat2 = kategori(hewan)\n",
    "print(kat1)\n",
    "print(\"\\nAplikasi yang muncul tepat di dua kategori sekaligus:\")\n",
    "print(kat2)"
   ]
  },
  {
   "cell_type": "code",
   "execution_count": 31,
   "id": "e5f7c851",
   "metadata": {},
   "outputs": [
    {
     "name": "stdout",
     "output_type": "stream",
     "text": [
      "data_list ke set\n",
      "data awal :  [10, 20, 30, 40, 50]\n",
      "dikonversi :  {40, 10, 50, 20, 30}\n",
      "data_set ke list\n",
      "data awal : {96, 97, 98, 99, 100, 95}\n",
      "dikonversi : [96, 97, 98, 99, 100, 95]\n",
      "data_tuple ke set\n",
      "data awal : (1, 2, 3, 4, 5, 6, 7)\n",
      "dikonversi : {1, 2, 3, 4, 5, 6, 7}\n",
      "data_set ke tuple\n",
      "data awal :  {789, 456, 123, 987, 654}\n",
      "dikonversikan :  (789, 456, 123, 987, 654)\n"
     ]
    }
   ],
   "source": [
    "print('data_list ke set')\n",
    "listt = [10,20,30,40,50]\n",
    "print (\"data awal : \",listt)\n",
    "print('dikonversi : ',set(listt))\n",
    "print('data_set ke list')\n",
    "sett = {100,99,98,97,96,95}\n",
    "print(\"data awal :\", sett)\n",
    "print('dikonversi :',list(sett))\n",
    "print('data_tuple ke set')\n",
    "tupple = (1,2,3,4,5,6,7)\n",
    "print('data awal :',tupple)\n",
    "print('dikonversi :',set(tupple))\n",
    "print('data_set ke tuple')\n",
    "sett2 = {123,456,789,987,654}\n",
    "print('data awal : ',sett2)\n",
    "print('dikonversikan : ',tuple(sett2))"
   ]
  },
  {
   "cell_type": "code",
   "execution_count": null,
   "id": "323933eb",
   "metadata": {},
   "outputs": [],
   "source": [
    "def read_text_file(filename):\n",
    "    try:\n",
    "        with open(filename, 'r') as file:\n",
    "            text = file.read().lower()\n",
    "            words = text.split()\n",
    "            return words\n",
    "    except FileNotFoundError:\n",
    "        print(f\"File '{filename}' tidak ditemukan.\")\n",
    "        return []\n",
    "    except Exception as e:\n",
    "        print(f\"Error: {e}\")\n",
    "        return []\n",
    "\n",
    "def main():\n",
    "    file1 = input(\"Masukkan nama file teks pertama: \")\n",
    "    words1 = read_text_file(file1)\n",
    "    file2 = input(\"Masukkan nama file teks kedua: \")\n",
    "    words2 = read_text_file(file2)\n",
    "    if words1 and words2: \n",
    "        common_words = set(words1) & set(words2)\n",
    "        print(\"\\nKata-kata yang muncul pada kedua file:\")\n",
    "        for word in common_words:\n",
    "            print(word)\n",
    "if __name__ == \"__main__\":\n",
    "    main()"
   ]
  }
 ],
 "metadata": {
  "kernelspec": {
   "display_name": "Python 3 (ipykernel)",
   "language": "python",
   "name": "python3"
  },
  "language_info": {
   "codemirror_mode": {
    "name": "ipython",
    "version": 3
   },
   "file_extension": ".py",
   "mimetype": "text/x-python",
   "name": "python",
   "nbconvert_exporter": "python",
   "pygments_lexer": "ipython3",
   "version": "3.11.5"
  }
 },
 "nbformat": 4,
 "nbformat_minor": 5
}
